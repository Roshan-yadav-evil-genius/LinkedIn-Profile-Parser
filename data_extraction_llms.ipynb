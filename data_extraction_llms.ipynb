{
 "cells": [
  {
   "cell_type": "code",
   "execution_count": null,
   "id": "ea570a6c",
   "metadata": {},
   "outputs": [],
   "source": [
    "from langchain_community.document_loaders import PyPDFLoader\n",
    "from langchain_community.vectorstores import Chroma\n",
    "from langchain_text_splitters import RecursiveCharacterTextSplitter\n",
    "from langchain_ollama import ChatOllama, OllamaEmbeddings\n",
    "from langchain.evaluation import load_evaluator\n",
    "from langchain.evaluation.schema import EvaluatorType\n",
    "from rich import print"
   ]
  },
  {
   "cell_type": "code",
   "execution_count": 46,
   "id": "4cc53f32",
   "metadata": {},
   "outputs": [],
   "source": [
    "llm = ChatOllama(model=\"qwen2.5:1.5b\")\n",
    "embedding_model = OllamaEmbeddings(model=\"nomic-embed-text:latest\")\n",
    "text_splitter = RecursiveCharacterTextSplitter(chunk_size=1500,chunk_overlap=200,length_function=len,separators=[\"\\n\\n\",\"\\n\",\" \"])"
   ]
  },
  {
   "cell_type": "code",
   "execution_count": 47,
   "id": "1e874223",
   "metadata": {},
   "outputs": [],
   "source": [
    "loader = PyPDFLoader(\"./data/Ceren Kaya.pdf\",mode=\"single\")"
   ]
  },
  {
   "cell_type": "code",
   "execution_count": 48,
   "id": "41f2a22e",
   "metadata": {},
   "outputs": [
    {
     "data": {
      "text/html": [
       "<pre style=\"white-space:pre;overflow-x:auto;line-height:normal;font-family:Menlo,'DejaVu Sans Mono',consolas,'Courier New',monospace\"><span style=\"color: #008080; text-decoration-color: #008080; font-weight: bold\">1</span>\n",
       "</pre>\n"
      ],
      "text/plain": [
       "\u001b[1;36m1\u001b[0m\n"
      ]
     },
     "metadata": {},
     "output_type": "display_data"
    }
   ],
   "source": [
    "pages = loader.load()\n",
    "print(len(pages))"
   ]
  },
  {
   "cell_type": "code",
   "execution_count": 49,
   "id": "f3d6d379",
   "metadata": {},
   "outputs": [],
   "source": [
    "evaluator = load_evaluator(evaluator=EvaluatorType.EMBEDDING_DISTANCE,embeddings=embedding_model)"
   ]
  },
  {
   "cell_type": "code",
   "execution_count": 50,
   "id": "f7055bba",
   "metadata": {},
   "outputs": [
    {
     "data": {
      "text/plain": [
       "{'score': 0.4658079726703127}"
      ]
     },
     "execution_count": 50,
     "metadata": {},
     "output_type": "execute_result"
    }
   ],
   "source": [
    "evaluator.evaluate_strings(prediction=\"starbucks\",reference=\"tea\")"
   ]
  },
  {
   "cell_type": "code",
   "execution_count": 51,
   "id": "161b4d22",
   "metadata": {},
   "outputs": [],
   "source": [
    "vector_store = Chroma.from_documents(\n",
    "    documents=pages,\n",
    "    embedding=embedding_model,\n",
    "    persist_directory=\"./vectorstore\"\n",
    ")\n",
    "vector_store.persist()"
   ]
  },
  {
   "cell_type": "code",
   "execution_count": null,
   "id": "b802b616",
   "metadata": {},
   "outputs": [],
   "source": []
  }
 ],
 "metadata": {
  "kernelspec": {
   "display_name": "agent",
   "language": "python",
   "name": "python3"
  },
  "language_info": {
   "codemirror_mode": {
    "name": "ipython",
    "version": 3
   },
   "file_extension": ".py",
   "mimetype": "text/x-python",
   "name": "python",
   "nbconvert_exporter": "python",
   "pygments_lexer": "ipython3",
   "version": "3.13.5"
  }
 },
 "nbformat": 4,
 "nbformat_minor": 5
}
